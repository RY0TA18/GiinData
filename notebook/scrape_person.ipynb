{
 "cells": [
  {
   "cell_type": "markdown",
   "id": "4b110e19",
   "metadata": {},
   "source": [
    "# ライブラリ一覧"
   ]
  },
  {
   "cell_type": "code",
   "execution_count": null,
   "id": "18d31952",
   "metadata": {},
   "outputs": [
    {
     "name": "stdout",
     "output_type": "stream",
     "text": [
      "Requirement already satisfied: bs4 in /Users/ryota/.pyenv/versions/3.12.7/lib/python3.12/site-packages (0.0.2)\n",
      "Requirement already satisfied: beautifulsoup4 in /Users/ryota/.pyenv/versions/3.12.7/lib/python3.12/site-packages (from bs4) (4.13.4)\n",
      "Requirement already satisfied: soupsieve>1.2 in /Users/ryota/.pyenv/versions/3.12.7/lib/python3.12/site-packages (from beautifulsoup4->bs4) (2.7)\n",
      "Requirement already satisfied: typing-extensions>=4.0.0 in /Users/ryota/.pyenv/versions/3.12.7/lib/python3.12/site-packages (from beautifulsoup4->bs4) (4.13.2)\n",
      "\n",
      "\u001b[1m[\u001b[0m\u001b[34;49mnotice\u001b[0m\u001b[1;39;49m]\u001b[0m\u001b[39;49m A new release of pip is available: \u001b[0m\u001b[31;49m25.1.1\u001b[0m\u001b[39;49m -> \u001b[0m\u001b[32;49m25.2\u001b[0m\n",
      "\u001b[1m[\u001b[0m\u001b[34;49mnotice\u001b[0m\u001b[1;39;49m]\u001b[0m\u001b[39;49m To update, run: \u001b[0m\u001b[32;49mpip install --upgrade pip\u001b[0m\n",
      "Collecting pykakasi\n",
      "  Downloading pykakasi-2.3.0-py3-none-any.whl.metadata (5.9 kB)\n",
      "Collecting jaconv (from pykakasi)\n",
      "  Downloading jaconv-0.4.0.tar.gz (17 kB)\n",
      "  Installing build dependencies ... \u001b[?25ldone\n",
      "\u001b[?25h  Getting requirements to build wheel ... \u001b[?25ldone\n",
      "\u001b[?25h  Preparing metadata (pyproject.toml) ... \u001b[?25ldone\n",
      "\u001b[?25hRequirement already satisfied: deprecated in /Users/ryota/.pyenv/versions/3.12.7/lib/python3.12/site-packages (from pykakasi) (1.2.18)\n",
      "Requirement already satisfied: wrapt<2,>=1.10 in /Users/ryota/.pyenv/versions/3.12.7/lib/python3.12/site-packages (from deprecated->pykakasi) (1.17.2)\n",
      "Downloading pykakasi-2.3.0-py3-none-any.whl (2.4 MB)\n",
      "\u001b[2K   \u001b[90m━━━━━━━━━━━━━━━━━━━━━━━━━━━━━━━━━━━━━━━━\u001b[0m \u001b[32m2.4/2.4 MB\u001b[0m \u001b[31m12.0 MB/s\u001b[0m eta \u001b[36m0:00:00\u001b[0ma \u001b[36m0:00:01\u001b[0m\n",
      "\u001b[?25hBuilding wheels for collected packages: jaconv\n",
      "  Building wheel for jaconv (pyproject.toml) ... \u001b[?25ldone\n",
      "\u001b[?25h  Created wheel for jaconv: filename=jaconv-0.4.0-py3-none-any.whl size=18313 sha256=78654c646619838e25525addf43394417b9d26b803d509bbcaaa88f16eb89886\n",
      "  Stored in directory: /Users/ryota/Library/Caches/pip/wheels/c9/97/53/1f827ebf916b899520ce663227497206525c432be72cc29265\n",
      "Successfully built jaconv\n",
      "Installing collected packages: jaconv, pykakasi\n",
      "\u001b[2K   \u001b[90m━━━━━━━━━━━━━━━━━━━━━━━━━━━━━━━━━━━━━━━━\u001b[0m \u001b[32m2/2\u001b[0m [pykakasi]\n",
      "\u001b[1A\u001b[2KSuccessfully installed jaconv-0.4.0 pykakasi-2.3.0\n",
      "\n",
      "\u001b[1m[\u001b[0m\u001b[34;49mnotice\u001b[0m\u001b[1;39;49m]\u001b[0m\u001b[39;49m A new release of pip is available: \u001b[0m\u001b[31;49m25.1.1\u001b[0m\u001b[39;49m -> \u001b[0m\u001b[32;49m25.2\u001b[0m\n",
      "\u001b[1m[\u001b[0m\u001b[34;49mnotice\u001b[0m\u001b[1;39;49m]\u001b[0m\u001b[39;49m To update, run: \u001b[0m\u001b[32;49mpip install --upgrade pip\u001b[0m\n"
     ]
    }
   ],
   "source": [
    "!pip install bs4\n",
    "!pip install pandas\n",
    "!pip install pykakasi"
   ]
  },
  {
   "cell_type": "markdown",
   "id": "d4f4c41d",
   "metadata": {},
   "source": [
    "# Tools"
   ]
  },
  {
   "cell_type": "code",
   "execution_count": 2,
   "id": "20ed4a6e",
   "metadata": {},
   "outputs": [
    {
     "name": "stderr",
     "output_type": "stream",
     "text": [
      "/var/folders/k3/6dyshyvn29d6tl28wnz4r2m40000gn/T/ipykernel_22308/2820461022.py:6: DeprecationWarning: Call to deprecated method setMode. (Old API will be removed in v3.0.) -- Deprecated since version 2.1.\n",
      "  kks.setMode(\"H\", \"a\")  # ひらがな to ローマ字\n",
      "/var/folders/k3/6dyshyvn29d6tl28wnz4r2m40000gn/T/ipykernel_22308/2820461022.py:7: DeprecationWarning: Call to deprecated method setMode. (Old API will be removed in v3.0.) -- Deprecated since version 2.1.\n",
      "  kks.setMode(\"K\", \"a\")  # カタカナ to ローマ字\n",
      "/var/folders/k3/6dyshyvn29d6tl28wnz4r2m40000gn/T/ipykernel_22308/2820461022.py:8: DeprecationWarning: Call to deprecated method setMode. (Old API will be removed in v3.0.) -- Deprecated since version 2.1.\n",
      "  kks.setMode(\"J\", \"a\")  # 漢字 to ローマ字\n",
      "/var/folders/k3/6dyshyvn29d6tl28wnz4r2m40000gn/T/ipykernel_22308/2820461022.py:9: DeprecationWarning: Call to deprecated method setMode. (Old API will be removed in v3.0.) -- Deprecated since version 2.1.\n",
      "  kks.setMode(\"r\", \"Hepburn\")  # ヘボン式\n",
      "/var/folders/k3/6dyshyvn29d6tl28wnz4r2m40000gn/T/ipykernel_22308/2820461022.py:10: DeprecationWarning: Call to deprecated method getConverter. (Old API will be removed in v3.0.) -- Deprecated since version 2.1.\n",
      "  converter = kks.getConverter()\n"
     ]
    }
   ],
   "source": [
    "import pykakasi\n",
    "import re\n",
    "\n",
    "# 初期化（ふりがな→ローマ字変換器）\n",
    "kks = pykakasi.kakasi()\n",
    "kks.setMode(\"H\", \"a\")  # ひらがな to ローマ字\n",
    "kks.setMode(\"K\", \"a\")  # カタカナ to ローマ字\n",
    "kks.setMode(\"J\", \"a\")  # 漢字 to ローマ字\n",
    "kks.setMode(\"r\", \"Hepburn\")  # ヘボン式\n",
    "converter = kks.getConverter()\n",
    "\n",
    "# 正規化関数\n",
    "def normalize(text):\n",
    "    text = text.replace(\"\\u3000\", \" \")       # 全角スペース → 半角\n",
    "    text = re.sub(r\"\\s+\", \" \", text)         # 複数空白 → 半角スペース1つ\n",
    "    return text.strip()\n",
    "\n",
    "# ローマ字変換関数\n",
    "def to_romaji(text):\n",
    "    return converter.do(text).capitalize()"
   ]
  },
  {
   "cell_type": "markdown",
   "id": "d2b829d7",
   "metadata": {},
   "source": [
    "# 衆議院"
   ]
  },
  {
   "cell_type": "code",
   "execution_count": 3,
   "id": "c5391f71",
   "metadata": {},
   "outputs": [
    {
     "name": "stderr",
     "output_type": "stream",
     "text": [
      "/var/folders/k3/6dyshyvn29d6tl28wnz4r2m40000gn/T/ipykernel_22308/2820461022.py:20: DeprecationWarning: Call to deprecated method do. (Old API will be removed in v3.0.) -- Deprecated since version 2.1.\n",
      "  return converter.do(text).capitalize()\n"
     ]
    },
    {
     "name": "stdout",
     "output_type": "stream",
     "text": [
      "CSVファイルを出力しました： ../data/syu_person/1giin.csv\n",
      "CSVファイルを出力しました： ../data/syu_person/2giin.csv\n",
      "CSVファイルを出力しました： ../data/syu_person/3giin.csv\n",
      "CSVファイルを出力しました： ../data/syu_person/4giin.csv\n",
      "CSVファイルを出力しました： ../data/syu_person/5giin.csv\n",
      "CSVファイルを出力しました： ../data/syu_person/6giin.csv\n",
      "CSVファイルを出力しました： ../data/syu_person/7giin.csv\n",
      "CSVファイルを出力しました： ../data/syu_person/8giin.csv\n",
      "CSVファイルを出力しました： ../data/syu_person/9giin.csv\n",
      "CSVファイルを出力しました： ../data/syu_person/10giin.csv\n"
     ]
    }
   ],
   "source": [
    "import requests\n",
    "from bs4 import BeautifulSoup\n",
    "import pandas as pd\n",
    "import os\n",
    "\n",
    "OUTDIR = \"../data/syu_person\"  # 出力ディレクトリ\n",
    "if not os.path.exists(OUTDIR):\n",
    "    os.makedirs(OUTDIR)  # 出力ディレクトリが存在しない場合は作成する\n",
    "\n",
    "# csvをマージするための変数\n",
    "merged_data = []\n",
    "\n",
    "# 国会議員名簿のHTMLをスクレイピングしてCSVに変換するスクリプト\n",
    "# あ行からわ行までの議員名簿を順に取得し、CSVファイルに保存する\n",
    "for i in range(1, 11):\n",
    "    URL = f\"https://www.shugiin.go.jp/internet/itdb_annai.nsf/html/statics/syu/{i}giin.htm\"\n",
    "    OUTPUT_FILE = URL.split(\"/\")[-1].replace(\".htm\", \".csv\")  # URLからファイル名を取得\n",
    "\n",
    "    response = requests.get(URL)\n",
    "    response.encoding = response.apparent_encoding  # 文字化け対策\n",
    "\n",
    "    soup = BeautifulSoup(response.text, \"html.parser\")\n",
    "\n",
    "    data = []\n",
    "    rows = soup.find_all(\"tr\", valign=\"top\")\n",
    "\n",
    "    for row in rows:\n",
    "        cols = row.find_all(\"td\")\n",
    "        if len(cols) == 5:\n",
    "            name = normalize(cols[0].get_text(strip=True).replace(\"君\", \"\"))\n",
    "            kana = normalize(cols[1].get_text(strip=True))\n",
    "            kana_parts = kana.split(\" \", 1)\n",
    "            kana_last = kana_parts[0]\n",
    "            kana_first = kana_parts[1] if len(kana_parts) > 1 else \"\"\n",
    "\n",
    "            romaji_last = to_romaji(kana_last)\n",
    "            romaji_first = to_romaji(kana_first)\n",
    "\n",
    "            data.append({\n",
    "                \"氏名\": name,\n",
    "                \"ふりがな（姓）\": kana_last,\n",
    "                \"ふりがな（名）\": kana_first,\n",
    "                \"ローマ字（姓）\": romaji_last,\n",
    "                \"ローマ字（名）\": romaji_first,\n",
    "                \"会派\": normalize(cols[2].get_text(strip=True)),\n",
    "                \"選挙区\": normalize(cols[3].get_text(strip=True)),\n",
    "                \"当選回数\": normalize(cols[4].get_text(strip=True)),\n",
    "            })\n",
    "\n",
    "    # DataFrame に変換してCSV保存\n",
    "    df = pd.DataFrame(data)\n",
    "    df.to_csv(OUTDIR + \"/\" + OUTPUT_FILE, index=False, encoding=\"utf-8-sig\")\n",
    "\n",
    "    print(\"CSVファイルを出力しました：\", OUTDIR + \"/\" + OUTPUT_FILE)\n",
    "\n",
    "    # csvファイルをマージする\n",
    "    merged_data.append(df)\n",
    "\n",
    "# マージしたデータを1つのDataFrameにまとめる\n",
    "merged_df = pd.concat(merged_data, ignore_index=True)\n",
    "merged_df.to_csv(OUTDIR + \"/merged_syu_person.csv\", index=False, encoding=\"utf-8-sig\")\n"
   ]
  },
  {
   "cell_type": "markdown",
   "id": "291c20cd",
   "metadata": {},
   "source": [
    "# 参議院"
   ]
  },
  {
   "cell_type": "code",
   "execution_count": 4,
   "id": "79682ae7",
   "metadata": {},
   "outputs": [
    {
     "name": "stdout",
     "output_type": "stream",
     "text": [
      "  行区分     氏名 姓ふりがな 名ふりがな     姓ローマ字      名ローマ字  会派    選挙区        任期満了\n",
      "0       青木 愛   あおき    あい      aoki         ai  立憲     比例  令和10年7月25日\n",
      "1      青木 一彦   あおき  かずひこ      aoki   kazuhiko  自民  鳥取・島根  令和10年7月25日\n",
      "2      青島 健太  あおしま   けんた   aoshima      kenta  維新     比例  令和10年7月25日\n",
      "3      青山 繁晴  あおやま  しげはる    aoyama  shigeharu  自民     比例  令和10年7月25日\n",
      "4       赤松 健  あかまつ    けん  akamatsu        ken  自民     比例  令和10年7月25日\n"
     ]
    },
    {
     "name": "stderr",
     "output_type": "stream",
     "text": [
      "/var/folders/k3/6dyshyvn29d6tl28wnz4r2m40000gn/T/ipykernel_22308/1383196681.py:43: DeprecationWarning: Call to deprecated method do. (Old API will be removed in v3.0.) -- Deprecated since version 2.1.\n",
      "  last_r = converter.do(last_h) if last_h else \"\"\n",
      "/var/folders/k3/6dyshyvn29d6tl28wnz4r2m40000gn/T/ipykernel_22308/1383196681.py:44: DeprecationWarning: Call to deprecated method do. (Old API will be removed in v3.0.) -- Deprecated since version 2.1.\n",
      "  first_r = converter.do(first_h) if first_h else \"\"\n"
     ]
    }
   ],
   "source": [
    "URL = \"https://www.sangiin.go.jp/japanese/joho1/kousei/giin/218/giin.htm\"\n",
    "\n",
    "\n",
    "OUTDIR = \"../data/san_person\"  # 出力ディレクトリ\n",
    "if not os.path.exists(OUTDIR):\n",
    "    os.makedirs(OUTDIR)  # 出力ディレクトリが存在しない場合は作成する\n",
    "OUTPUT_FILE = URL.split(\"/\")[-1].replace(\".htm\", \".csv\")  # URLからファイル名を取得\n",
    "\n",
    "response = requests.get(URL)\n",
    "response.encoding = response.apparent_encoding  # 文字化け対策\n",
    "soup = BeautifulSoup(response.text, \"html.parser\")\n",
    "\n",
    "\n",
    "# 対象表の特定\n",
    "tables = soup.find_all(\"table\")\n",
    "target = None\n",
    "for table in tables:\n",
    "    if any(\"議員氏名\" in th.get_text() for th in table.find_all(\"th\")):\n",
    "        target = table\n",
    "        break\n",
    "if not target:\n",
    "    raise RuntimeError(\"対象の表が見つかりません\")\n",
    "\n",
    "data = []\n",
    "current = None\n",
    "for tr in target.find_all(\"tr\"):\n",
    "    th = tr.find(\"th\")\n",
    "    tds = tr.find_all(\"td\")\n",
    "    if th and not tds:\n",
    "        current = normalize(th.get_text())\n",
    "        continue\n",
    "    if len(tds) >= 5:\n",
    "        name = normalize(tds[0].get_text())\n",
    "        reading = normalize(tds[1].get_text())\n",
    "        party = normalize(tds[2].get_text())\n",
    "        district = normalize(tds[3].get_text())\n",
    "        term = normalize(tds[4].get_text())\n",
    "        # 読み方を姓・名に分割\n",
    "        parts = reading.split(\" \")\n",
    "        last_h = parts[0] if parts else \"\"\n",
    "        first_h = parts[1] if len(parts) > 1 else \"\"\n",
    "        # ローマ字変換\n",
    "        last_r = converter.do(last_h) if last_h else \"\"\n",
    "        first_r = converter.do(first_h) if first_h else \"\"\n",
    "        row = {\n",
    "            \"行区分\": current,\n",
    "            \"氏名\": name,\n",
    "            \"姓ふりがな\": last_h,\n",
    "            \"名ふりがな\": first_h,\n",
    "            \"姓ローマ字\": last_r,\n",
    "            \"名ローマ字\": first_r,\n",
    "            \"会派\": party,\n",
    "            \"選挙区\": district,\n",
    "            \"任期満了\": term\n",
    "        }\n",
    "        data.append(row)\n",
    "\n",
    "df = pd.DataFrame(data)\n",
    "print(df.head())\n",
    "\n",
    "# 必要に応じてCSVに保存\n",
    "df.to_csv(OUTDIR + \"/\" + OUTPUT_FILE, index=False, encoding=\"utf-8-sig\")"
   ]
  }
 ],
 "metadata": {
  "kernelspec": {
   "display_name": "3.12.7",
   "language": "python",
   "name": "python3"
  },
  "language_info": {
   "codemirror_mode": {
    "name": "ipython",
    "version": 3
   },
   "file_extension": ".py",
   "mimetype": "text/x-python",
   "name": "python",
   "nbconvert_exporter": "python",
   "pygments_lexer": "ipython3",
   "version": "3.12.7"
  }
 },
 "nbformat": 4,
 "nbformat_minor": 5
}
